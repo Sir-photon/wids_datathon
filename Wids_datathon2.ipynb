{
 "cells": [
  {
   "cell_type": "markdown",
   "id": "2993c14b",
   "metadata": {},
   "source": [
    "#### Import Libraries"
   ]
  },
  {
   "cell_type": "code",
   "execution_count": 1,
   "id": "207c82f8",
   "metadata": {},
   "outputs": [],
   "source": [
    "import pandas as pd\n",
    "import seaborn as sns\n",
    "import numpy as np\n",
    "import matplotlib.pyplot as plt"
   ]
  },
  {
   "cell_type": "code",
   "execution_count": 2,
   "id": "5fac5c09",
   "metadata": {},
   "outputs": [],
   "source": [
    "# Import dataset\n",
    "train=pd.read_csv(r'C:\\Users\\PHOTON\\Desktop\\SIR PHOTON\\KAGGLE\\Wids\\train.csv')\n",
    "test=pd.read_csv(r'C:\\Users\\PHOTON\\Desktop\\SIR PHOTON\\KAGGLE\\Wids\\test.csv')\n",
    "submission=pd.read_csv(r'C:\\Users\\PHOTON\\Desktop\\SIR PHOTON\\KAGGLE\\Wids\\sample_solution.csv')"
   ]
  },
  {
   "cell_type": "code",
   "execution_count": 3,
   "id": "1392a826",
   "metadata": {},
   "outputs": [
    {
     "data": {
      "text/html": [
       "<div>\n",
       "<style scoped>\n",
       "    .dataframe tbody tr th:only-of-type {\n",
       "        vertical-align: middle;\n",
       "    }\n",
       "\n",
       "    .dataframe tbody tr th {\n",
       "        vertical-align: top;\n",
       "    }\n",
       "\n",
       "    .dataframe thead th {\n",
       "        text-align: right;\n",
       "    }\n",
       "</style>\n",
       "<table border=\"1\" class=\"dataframe\">\n",
       "  <thead>\n",
       "    <tr style=\"text-align: right;\">\n",
       "      <th></th>\n",
       "      <th>Year_Factor</th>\n",
       "      <th>State_Factor</th>\n",
       "      <th>building_class</th>\n",
       "      <th>facility_type</th>\n",
       "      <th>floor_area</th>\n",
       "      <th>year_built</th>\n",
       "      <th>energy_star_rating</th>\n",
       "      <th>ELEVATION</th>\n",
       "      <th>january_min_temp</th>\n",
       "      <th>january_avg_temp</th>\n",
       "      <th>...</th>\n",
       "      <th>days_above_80F</th>\n",
       "      <th>days_above_90F</th>\n",
       "      <th>days_above_100F</th>\n",
       "      <th>days_above_110F</th>\n",
       "      <th>direction_max_wind_speed</th>\n",
       "      <th>direction_peak_wind_speed</th>\n",
       "      <th>max_wind_speed</th>\n",
       "      <th>days_with_fog</th>\n",
       "      <th>site_eui</th>\n",
       "      <th>id</th>\n",
       "    </tr>\n",
       "  </thead>\n",
       "  <tbody>\n",
       "    <tr>\n",
       "      <th>0</th>\n",
       "      <td>1</td>\n",
       "      <td>State_1</td>\n",
       "      <td>Commercial</td>\n",
       "      <td>Grocery_store_or_food_market</td>\n",
       "      <td>61242.0</td>\n",
       "      <td>1942.0</td>\n",
       "      <td>11.0</td>\n",
       "      <td>2.4</td>\n",
       "      <td>36</td>\n",
       "      <td>50.5</td>\n",
       "      <td>...</td>\n",
       "      <td>14</td>\n",
       "      <td>0</td>\n",
       "      <td>0</td>\n",
       "      <td>0</td>\n",
       "      <td>1.0</td>\n",
       "      <td>1.0</td>\n",
       "      <td>1.0</td>\n",
       "      <td>NaN</td>\n",
       "      <td>248.682615</td>\n",
       "      <td>0</td>\n",
       "    </tr>\n",
       "    <tr>\n",
       "      <th>1</th>\n",
       "      <td>1</td>\n",
       "      <td>State_1</td>\n",
       "      <td>Commercial</td>\n",
       "      <td>Warehouse_Distribution_or_Shipping_center</td>\n",
       "      <td>274000.0</td>\n",
       "      <td>1955.0</td>\n",
       "      <td>45.0</td>\n",
       "      <td>1.8</td>\n",
       "      <td>36</td>\n",
       "      <td>50.5</td>\n",
       "      <td>...</td>\n",
       "      <td>14</td>\n",
       "      <td>0</td>\n",
       "      <td>0</td>\n",
       "      <td>0</td>\n",
       "      <td>1.0</td>\n",
       "      <td>NaN</td>\n",
       "      <td>1.0</td>\n",
       "      <td>12.0</td>\n",
       "      <td>26.500150</td>\n",
       "      <td>1</td>\n",
       "    </tr>\n",
       "    <tr>\n",
       "      <th>2</th>\n",
       "      <td>1</td>\n",
       "      <td>State_1</td>\n",
       "      <td>Commercial</td>\n",
       "      <td>Retail_Enclosed_mall</td>\n",
       "      <td>280025.0</td>\n",
       "      <td>1951.0</td>\n",
       "      <td>97.0</td>\n",
       "      <td>1.8</td>\n",
       "      <td>36</td>\n",
       "      <td>50.5</td>\n",
       "      <td>...</td>\n",
       "      <td>14</td>\n",
       "      <td>0</td>\n",
       "      <td>0</td>\n",
       "      <td>0</td>\n",
       "      <td>1.0</td>\n",
       "      <td>NaN</td>\n",
       "      <td>1.0</td>\n",
       "      <td>12.0</td>\n",
       "      <td>24.693619</td>\n",
       "      <td>2</td>\n",
       "    </tr>\n",
       "    <tr>\n",
       "      <th>3</th>\n",
       "      <td>1</td>\n",
       "      <td>State_1</td>\n",
       "      <td>Commercial</td>\n",
       "      <td>Education_Other_classroom</td>\n",
       "      <td>55325.0</td>\n",
       "      <td>1980.0</td>\n",
       "      <td>46.0</td>\n",
       "      <td>1.8</td>\n",
       "      <td>36</td>\n",
       "      <td>50.5</td>\n",
       "      <td>...</td>\n",
       "      <td>14</td>\n",
       "      <td>0</td>\n",
       "      <td>0</td>\n",
       "      <td>0</td>\n",
       "      <td>1.0</td>\n",
       "      <td>NaN</td>\n",
       "      <td>1.0</td>\n",
       "      <td>12.0</td>\n",
       "      <td>48.406926</td>\n",
       "      <td>3</td>\n",
       "    </tr>\n",
       "    <tr>\n",
       "      <th>4</th>\n",
       "      <td>1</td>\n",
       "      <td>State_1</td>\n",
       "      <td>Commercial</td>\n",
       "      <td>Warehouse_Nonrefrigerated</td>\n",
       "      <td>66000.0</td>\n",
       "      <td>1985.0</td>\n",
       "      <td>100.0</td>\n",
       "      <td>2.4</td>\n",
       "      <td>36</td>\n",
       "      <td>50.5</td>\n",
       "      <td>...</td>\n",
       "      <td>14</td>\n",
       "      <td>0</td>\n",
       "      <td>0</td>\n",
       "      <td>0</td>\n",
       "      <td>1.0</td>\n",
       "      <td>1.0</td>\n",
       "      <td>1.0</td>\n",
       "      <td>NaN</td>\n",
       "      <td>3.899395</td>\n",
       "      <td>4</td>\n",
       "    </tr>\n",
       "  </tbody>\n",
       "</table>\n",
       "<p>5 rows × 64 columns</p>\n",
       "</div>"
      ],
      "text/plain": [
       "   Year_Factor State_Factor building_class  \\\n",
       "0            1      State_1     Commercial   \n",
       "1            1      State_1     Commercial   \n",
       "2            1      State_1     Commercial   \n",
       "3            1      State_1     Commercial   \n",
       "4            1      State_1     Commercial   \n",
       "\n",
       "                               facility_type  floor_area  year_built  \\\n",
       "0               Grocery_store_or_food_market     61242.0      1942.0   \n",
       "1  Warehouse_Distribution_or_Shipping_center    274000.0      1955.0   \n",
       "2                       Retail_Enclosed_mall    280025.0      1951.0   \n",
       "3                  Education_Other_classroom     55325.0      1980.0   \n",
       "4                  Warehouse_Nonrefrigerated     66000.0      1985.0   \n",
       "\n",
       "   energy_star_rating  ELEVATION  january_min_temp  january_avg_temp  ...  \\\n",
       "0                11.0        2.4                36              50.5  ...   \n",
       "1                45.0        1.8                36              50.5  ...   \n",
       "2                97.0        1.8                36              50.5  ...   \n",
       "3                46.0        1.8                36              50.5  ...   \n",
       "4               100.0        2.4                36              50.5  ...   \n",
       "\n",
       "   days_above_80F  days_above_90F  days_above_100F  days_above_110F  \\\n",
       "0              14               0                0                0   \n",
       "1              14               0                0                0   \n",
       "2              14               0                0                0   \n",
       "3              14               0                0                0   \n",
       "4              14               0                0                0   \n",
       "\n",
       "   direction_max_wind_speed  direction_peak_wind_speed  max_wind_speed  \\\n",
       "0                       1.0                        1.0             1.0   \n",
       "1                       1.0                        NaN             1.0   \n",
       "2                       1.0                        NaN             1.0   \n",
       "3                       1.0                        NaN             1.0   \n",
       "4                       1.0                        1.0             1.0   \n",
       "\n",
       "   days_with_fog    site_eui  id  \n",
       "0            NaN  248.682615   0  \n",
       "1           12.0   26.500150   1  \n",
       "2           12.0   24.693619   2  \n",
       "3           12.0   48.406926   3  \n",
       "4            NaN    3.899395   4  \n",
       "\n",
       "[5 rows x 64 columns]"
      ]
     },
     "execution_count": 3,
     "metadata": {},
     "output_type": "execute_result"
    }
   ],
   "source": [
    "train.head()"
   ]
  },
  {
   "cell_type": "code",
   "execution_count": 4,
   "id": "59db503d",
   "metadata": {},
   "outputs": [
    {
     "data": {
      "text/plain": [
       "4848448"
      ]
     },
     "execution_count": 4,
     "metadata": {},
     "output_type": "execute_result"
    }
   ],
   "source": [
    "train.size"
   ]
  },
  {
   "cell_type": "code",
   "execution_count": 5,
   "id": "d24597aa",
   "metadata": {},
   "outputs": [
    {
     "data": {
      "text/plain": [
       "75757"
      ]
     },
     "execution_count": 5,
     "metadata": {},
     "output_type": "execute_result"
    }
   ],
   "source": [
    "train.shape[0]"
   ]
  },
  {
   "cell_type": "code",
   "execution_count": 6,
   "id": "7fc86d5a",
   "metadata": {},
   "outputs": [
    {
     "data": {
      "text/plain": [
       "9705"
      ]
     },
     "execution_count": 6,
     "metadata": {},
     "output_type": "execute_result"
    }
   ],
   "source": [
    "test.shape[0]"
   ]
  },
  {
   "cell_type": "code",
   "execution_count": 7,
   "id": "50ec1b65",
   "metadata": {},
   "outputs": [
    {
     "data": {
      "text/plain": [
       "9705"
      ]
     },
     "execution_count": 7,
     "metadata": {},
     "output_type": "execute_result"
    }
   ],
   "source": [
    "submission.shape[0]"
   ]
  },
  {
   "cell_type": "code",
   "execution_count": 8,
   "id": "609bc829",
   "metadata": {},
   "outputs": [
    {
     "data": {
      "text/plain": [
       "Year_Factor                      0\n",
       "State_Factor                     0\n",
       "building_class                   0\n",
       "facility_type                    0\n",
       "floor_area                       0\n",
       "                             ...  \n",
       "direction_peak_wind_speed    41811\n",
       "max_wind_speed               41082\n",
       "days_with_fog                45796\n",
       "site_eui                         0\n",
       "id                               0\n",
       "Length: 64, dtype: int64"
      ]
     },
     "execution_count": 8,
     "metadata": {},
     "output_type": "execute_result"
    }
   ],
   "source": [
    "# Check for missing datapoints on the trainning set\n",
    "train.isna().sum()"
   ]
  },
  {
   "cell_type": "code",
   "execution_count": 9,
   "id": "f3f9cdac",
   "metadata": {},
   "outputs": [],
   "source": [
    "# Identify columns with missing data\n",
    "columns_with_missing = train.columns[train.isnull().any()]\n",
    "\n",
    "# Get the number of missing values for each column\n",
    "missing_data_counts = train[columns_with_missing].isnull().sum()\n",
    "\n",
    "# Display columns with missing data and the number of missing values\n",
    "missing_data_info = pd.DataFrame({\n",
    "    'Columns with Missing Data': columns_with_missing,\n",
    "    'Number of Missing Values': missing_data_counts})"
   ]
  },
  {
   "cell_type": "code",
   "execution_count": 10,
   "id": "bd1f97c3",
   "metadata": {},
   "outputs": [
    {
     "data": {
      "text/html": [
       "<div>\n",
       "<style scoped>\n",
       "    .dataframe tbody tr th:only-of-type {\n",
       "        vertical-align: middle;\n",
       "    }\n",
       "\n",
       "    .dataframe tbody tr th {\n",
       "        vertical-align: top;\n",
       "    }\n",
       "\n",
       "    .dataframe thead th {\n",
       "        text-align: right;\n",
       "    }\n",
       "</style>\n",
       "<table border=\"1\" class=\"dataframe\">\n",
       "  <thead>\n",
       "    <tr style=\"text-align: right;\">\n",
       "      <th></th>\n",
       "      <th>Columns with Missing Data</th>\n",
       "      <th>Number of Missing Values</th>\n",
       "    </tr>\n",
       "  </thead>\n",
       "  <tbody>\n",
       "    <tr>\n",
       "      <th>year_built</th>\n",
       "      <td>year_built</td>\n",
       "      <td>1837</td>\n",
       "    </tr>\n",
       "    <tr>\n",
       "      <th>energy_star_rating</th>\n",
       "      <td>energy_star_rating</td>\n",
       "      <td>26709</td>\n",
       "    </tr>\n",
       "    <tr>\n",
       "      <th>direction_max_wind_speed</th>\n",
       "      <td>direction_max_wind_speed</td>\n",
       "      <td>41082</td>\n",
       "    </tr>\n",
       "    <tr>\n",
       "      <th>direction_peak_wind_speed</th>\n",
       "      <td>direction_peak_wind_speed</td>\n",
       "      <td>41811</td>\n",
       "    </tr>\n",
       "    <tr>\n",
       "      <th>max_wind_speed</th>\n",
       "      <td>max_wind_speed</td>\n",
       "      <td>41082</td>\n",
       "    </tr>\n",
       "    <tr>\n",
       "      <th>days_with_fog</th>\n",
       "      <td>days_with_fog</td>\n",
       "      <td>45796</td>\n",
       "    </tr>\n",
       "  </tbody>\n",
       "</table>\n",
       "</div>"
      ],
      "text/plain": [
       "                           Columns with Missing Data  Number of Missing Values\n",
       "year_built                                year_built                      1837\n",
       "energy_star_rating                energy_star_rating                     26709\n",
       "direction_max_wind_speed    direction_max_wind_speed                     41082\n",
       "direction_peak_wind_speed  direction_peak_wind_speed                     41811\n",
       "max_wind_speed                        max_wind_speed                     41082\n",
       "days_with_fog                          days_with_fog                     45796"
      ]
     },
     "execution_count": 10,
     "metadata": {},
     "output_type": "execute_result"
    }
   ],
   "source": [
    "missing_data_info"
   ]
  },
  {
   "cell_type": "markdown",
   "id": "5c9800e9",
   "metadata": {},
   "source": [
    "The dataframe illustrate the missing columns with their missing datapoints numbers"
   ]
  },
  {
   "cell_type": "code",
   "execution_count": 11,
   "id": "32272f39",
   "metadata": {},
   "outputs": [],
   "source": [
    "# Lets deal with the missing data first, dropping the columns with large missing datapoints\n",
    "cols=['direction_max_wind_speed', 'direction_peak_wind_speed', 'max_wind_speed', 'days_with_fog']\n",
    "train=train.drop(cols, axis=1)"
   ]
  },
  {
   "cell_type": "code",
   "execution_count": 12,
   "id": "a59dfc7f",
   "metadata": {},
   "outputs": [],
   "source": [
    "def bp(i):\n",
    "    sns.boxplot(y=i)\n",
    "    "
   ]
  },
  {
   "cell_type": "code",
   "execution_count": 13,
   "id": "e0ed88a8",
   "metadata": {},
   "outputs": [
    {
     "data": {
      "text/plain": [
       "<AxesSubplot:ylabel='energy_star_rating'>"
      ]
     },
     "execution_count": 13,
     "metadata": {},
     "output_type": "execute_result"
    },
    {
     "data": {
      "image/png": "[encoded data removed]",
      "text/plain": [
       "<Figure size 432x288 with 1 Axes>"
      ]
     },
     "metadata": {
      "needs_background": "light"
     },
     "output_type": "display_data"
    }
   ],
   "source": [
    "sns.boxplot(y=train['energy_star_rating'])\n"
   ]
  },
  {
   "cell_type": "code",
   "execution_count": 14,
   "id": "3de31c16",
   "metadata": {},
   "outputs": [],
   "source": [
    "train['energy_star_rating']=train['energy_star_rating'].fillna(train['energy_star_rating'].mean())"
   ]
  },
  {
   "cell_type": "code",
   "execution_count": 15,
   "id": "c5ca5336",
   "metadata": {},
   "outputs": [
    {
     "data": {
      "text/plain": [
       "<AxesSubplot:ylabel='year_built'>"
      ]
     },
     "execution_count": 15,
     "metadata": {},
     "output_type": "execute_result"
    },
    {
     "data": {
      "image/png": "[encoded data removed]",
      "text/plain": [
       "<Figure size 432x288 with 1 Axes>"
      ]
     },
     "metadata": {
      "needs_background": "light"
     },
     "output_type": "display_data"
    }
   ],
   "source": [
    "sns.boxplot(y=train['year_built'])"
   ]
  },
  {
   "cell_type": "markdown",
   "id": "6a45d9f0",
   "metadata": {},
   "source": [
    "There is a problem with year built apart from missing values, hence the column has to be removed."
   ]
  },
  {
   "cell_type": "code",
   "execution_count": 16,
   "id": "edf4f3ac",
   "metadata": {},
   "outputs": [],
   "source": [
    "train=train.drop('year_built', axis=1)"
   ]
  },
  {
   "cell_type": "code",
   "execution_count": 17,
   "id": "ff443fa5",
   "metadata": {},
   "outputs": [
    {
     "data": {
      "text/plain": [
       "Year_Factor             0\n",
       "State_Factor            0\n",
       "building_class          0\n",
       "facility_type           0\n",
       "floor_area              0\n",
       "energy_star_rating      0\n",
       "ELEVATION               0\n",
       "january_min_temp        0\n",
       "january_avg_temp        0\n",
       "january_max_temp        0\n",
       "february_min_temp       0\n",
       "february_avg_temp       0\n",
       "february_max_temp       0\n",
       "march_min_temp          0\n",
       "march_avg_temp          0\n",
       "march_max_temp          0\n",
       "april_min_temp          0\n",
       "april_avg_temp          0\n",
       "april_max_temp          0\n",
       "may_min_temp            0\n",
       "may_avg_temp            0\n",
       "may_max_temp            0\n",
       "june_min_temp           0\n",
       "june_avg_temp           0\n",
       "june_max_temp           0\n",
       "july_min_temp           0\n",
       "july_avg_temp           0\n",
       "july_max_temp           0\n",
       "august_min_temp         0\n",
       "august_avg_temp         0\n",
       "august_max_temp         0\n",
       "september_min_temp      0\n",
       "september_avg_temp      0\n",
       "september_max_temp      0\n",
       "october_min_temp        0\n",
       "october_avg_temp        0\n",
       "october_max_temp        0\n",
       "november_min_temp       0\n",
       "november_avg_temp       0\n",
       "november_max_temp       0\n",
       "december_min_temp       0\n",
       "december_avg_temp       0\n",
       "december_max_temp       0\n",
       "cooling_degree_days     0\n",
       "heating_degree_days     0\n",
       "precipitation_inches    0\n",
       "snowfall_inches         0\n",
       "snowdepth_inches        0\n",
       "avg_temp                0\n",
       "days_below_30F          0\n",
       "days_below_20F          0\n",
       "days_below_10F          0\n",
       "days_below_0F           0\n",
       "days_above_80F          0\n",
       "days_above_90F          0\n",
       "days_above_100F         0\n",
       "days_above_110F         0\n",
       "site_eui                0\n",
       "id                      0\n",
       "dtype: int64"
      ]
     },
     "execution_count": 17,
     "metadata": {},
     "output_type": "execute_result"
    }
   ],
   "source": [
    "train.isna().sum()"
   ]
  },
  {
   "cell_type": "markdown",
   "id": "77ee2815",
   "metadata": {},
   "source": [
    "Yeah, the data is now clean"
   ]
  },
  {
   "cell_type": "markdown",
   "id": "03299691",
   "metadata": {},
   "source": [
    "#### EDA"
   ]
  },
  {
   "cell_type": "code",
   "execution_count": 18,
   "id": "58fded84",
   "metadata": {},
   "outputs": [
    {
     "data": {
      "text/plain": [
       "<AxesSubplot:xlabel='avg_temp', ylabel='site_eui'>"
      ]
     },
     "execution_count": 18,
     "metadata": {},
     "output_type": "execute_result"
    },
    {
     "data": {
      "image/png": "[encoded data removed]",
      "text/plain": [
       "<Figure size 720x432 with 1 Axes>"
      ]
     },
     "metadata": {
      "needs_background": "light"
     },
     "output_type": "display_data"
    }
   ],
   "source": [
    "plt.figure(figsize=(10,6))\n",
    "sns.lineplot(x='avg_temp', y='site_eui', data=train)"
   ]
  },
  {
   "cell_type": "code",
   "execution_count": 19,
   "id": "95583a1b",
   "metadata": {},
   "outputs": [
    {
     "data": {
      "text/plain": [
       "<AxesSubplot:ylabel='avg_temp'>"
      ]
     },
     "execution_count": 19,
     "metadata": {},
     "output_type": "execute_result"
    },
    {
     "data": {
      "image/png": "[encoded data removed]",
      "text/plain": [
       "<Figure size 720x576 with 1 Axes>"
      ]
     },
     "metadata": {
      "needs_background": "light"
     },
     "output_type": "display_data"
    }
   ],
   "source": [
    "plt.figure(figsize=(10,8))\n",
    "sns.boxplot(y='avg_temp', data=train)"
   ]
  },
  {
   "cell_type": "code",
   "execution_count": 20,
   "id": "7fb6b2ae",
   "metadata": {},
   "outputs": [
    {
     "data": {
      "text/plain": [
       "<AxesSubplot:xlabel='avg_temp', ylabel='Count'>"
      ]
     },
     "execution_count": 20,
     "metadata": {},
     "output_type": "execute_result"
    },
    {
     "data": {
      "image/png": "[encoded data removed]",
      "text/plain": [
       "<Figure size 720x576 with 1 Axes>"
      ]
     },
     "metadata": {
      "needs_background": "light"
     },
     "output_type": "display_data"
    }
   ],
   "source": [
    "plt.figure(figsize=(10,8))\n",
    "sns.histplot(x='avg_temp', data=train, bins=40)"
   ]
  },
  {
   "cell_type": "code",
   "execution_count": null,
   "id": "81063ca1",
   "metadata": {},
   "outputs": [],
   "source": []
  },
  {
   "cell_type": "code",
   "execution_count": 21,
   "id": "9679b7d3",
   "metadata": {},
   "outputs": [],
   "source": [
    "def conv(x):\n",
    "    if x.startswith('State_'):\n",
    "        return(int(x.replace('State_','')))\n",
    "    else:\n",
    "        return x"
   ]
  },
  {
   "cell_type": "code",
   "execution_count": 22,
   "id": "93321707",
   "metadata": {},
   "outputs": [],
   "source": [
    "train['State_Factor']=train['State_Factor'].apply(conv)\n",
    "train['building_class']=train['building_class'].apply(lambda x: 1 if x=='Residential' else 0)\n",
    "train=train.drop(['facility_type', 'id'], axis=1)\n",
    "\n"
   ]
  },
  {
   "cell_type": "code",
   "execution_count": 23,
   "id": "73c42835",
   "metadata": {},
   "outputs": [],
   "source": [
    "x=train.drop('site_eui', axis=1)\n",
    "y=train['site_eui']"
   ]
  },
  {
   "cell_type": "code",
   "execution_count": 24,
   "id": "7e09fb75",
   "metadata": {},
   "outputs": [
    {
     "data": {
      "text/plain": [
       "0        1\n",
       "1        1\n",
       "2        1\n",
       "3        1\n",
       "4        1\n",
       "        ..\n",
       "75752    6\n",
       "75753    6\n",
       "75754    6\n",
       "75755    6\n",
       "75756    6\n",
       "Name: Year_Factor, Length: 75757, dtype: int64"
      ]
     },
     "execution_count": 24,
     "metadata": {},
     "output_type": "execute_result"
    }
   ],
   "source": [
    "train['Year_Factor']"
   ]
  },
  {
   "cell_type": "markdown",
   "id": "b659b436",
   "metadata": {},
   "source": [
    "### Modeling"
   ]
  },
  {
   "cell_type": "code",
   "execution_count": 25,
   "id": "f0f3c9fd",
   "metadata": {},
   "outputs": [],
   "source": [
    "from sklearn.model_selection import train_test_split, cross_val_score, KFold, RepeatedKFold, RandomizedSearchCV, GridSearchCV\n",
    "from xgboost import XGBRegressor\n",
    "from sklearn.preprocessing import StandardScaler\n",
    "from sklearn.metrics import mean_squared_error\n",
    "from sklearn.preprocessing import MinMaxScaler"
   ]
  },
  {
   "cell_type": "code",
   "execution_count": 26,
   "id": "89a63c40",
   "metadata": {},
   "outputs": [],
   "source": [
    "# Scaling the training set\n",
    "scaler=MinMaxScaler()\n",
    "x_scaled=scaler.fit_transform(x)\n",
    "\n",
    "# Split the model\n",
    "x_train, x_test, y_train, y_test=train_test_split(x, y, random_state=101, test_size=0.3)\n"
   ]
  },
  {
   "cell_type": "code",
   "execution_count": 27,
   "id": "e4cf6de6",
   "metadata": {},
   "outputs": [],
   "source": [
    "model=XGBRegressor()\n",
    "# k_fold crossvalidation\n",
    "cv1=RepeatedKFold(n_splits=5, n_repeats=3, random_state=1)\n",
    "#Grid seacrh\n",
    "params={'n_estimators':[100, 200] ,'max_depth':[7, 10]}\n",
    "g_search=RandomizedSearchCV(model, params, cv=cv1, scoring='neg_mean_squared_error', n_iter=2)\n",
    "g_search_model=g_search.fit(x_train, y_train)\n",
    "\n",
    "#c_score=cross_val_score(model, x, y, cv=cv1)"
   ]
  },
  {
   "cell_type": "code",
   "execution_count": 28,
   "id": "5154442d",
   "metadata": {},
   "outputs": [],
   "source": [
    "best=g_search.best_params_"
   ]
  },
  {
   "cell_type": "code",
   "execution_count": 29,
   "id": "20e01352",
   "metadata": {},
   "outputs": [
    {
     "data": {
      "text/plain": [
       "{'n_estimators': 200, 'max_depth': 7}"
      ]
     },
     "execution_count": 29,
     "metadata": {},
     "output_type": "execute_result"
    }
   ],
   "source": [
    "best\n",
    "\n"
   ]
  },
  {
   "cell_type": "code",
   "execution_count": 30,
   "id": "0a5d867c",
   "metadata": {},
   "outputs": [],
   "source": [
    "pred=g_search.predict(x_test)"
   ]
  },
  {
   "cell_type": "code",
   "execution_count": 31,
   "id": "f2bf48f9",
   "metadata": {},
   "outputs": [
    {
     "name": "stdout",
     "output_type": "stream",
     "text": [
      "MSE: 2410.109157845914, RMSE: 49.09286259575738\n"
     ]
    }
   ],
   "source": [
    "print(f'MSE: {mean_squared_error(y_test, pred)}, RMSE: {np.sqrt(mean_squared_error(y_test, pred))}')"
   ]
  },
  {
   "cell_type": "markdown",
   "id": "085606c5",
   "metadata": {},
   "source": [
    "The best parameter chosen was used to carryout energy prediction with the test dataset."
   ]
  },
  {
   "cell_type": "code",
   "execution_count": 33,
   "id": "c3b4874f",
   "metadata": {},
   "outputs": [
    {
     "data": {
      "text/html": [
       "<div>\n",
       "<style scoped>\n",
       "    .dataframe tbody tr th:only-of-type {\n",
       "        vertical-align: middle;\n",
       "    }\n",
       "\n",
       "    .dataframe tbody tr th {\n",
       "        vertical-align: top;\n",
       "    }\n",
       "\n",
       "    .dataframe thead th {\n",
       "        text-align: right;\n",
       "    }\n",
       "</style>\n",
       "<table border=\"1\" class=\"dataframe\">\n",
       "  <thead>\n",
       "    <tr style=\"text-align: right;\">\n",
       "      <th></th>\n",
       "      <th>Year_Factor</th>\n",
       "      <th>State_Factor</th>\n",
       "      <th>building_class</th>\n",
       "      <th>facility_type</th>\n",
       "      <th>floor_area</th>\n",
       "      <th>year_built</th>\n",
       "      <th>energy_star_rating</th>\n",
       "      <th>ELEVATION</th>\n",
       "      <th>january_min_temp</th>\n",
       "      <th>january_avg_temp</th>\n",
       "      <th>...</th>\n",
       "      <th>days_below_0F</th>\n",
       "      <th>days_above_80F</th>\n",
       "      <th>days_above_90F</th>\n",
       "      <th>days_above_100F</th>\n",
       "      <th>days_above_110F</th>\n",
       "      <th>direction_max_wind_speed</th>\n",
       "      <th>direction_peak_wind_speed</th>\n",
       "      <th>max_wind_speed</th>\n",
       "      <th>days_with_fog</th>\n",
       "      <th>id</th>\n",
       "    </tr>\n",
       "  </thead>\n",
       "  <tbody>\n",
       "    <tr>\n",
       "      <th>0</th>\n",
       "      <td>7</td>\n",
       "      <td>State_1</td>\n",
       "      <td>Commercial</td>\n",
       "      <td>Grocery_store_or_food_market</td>\n",
       "      <td>28484.0</td>\n",
       "      <td>1994.0</td>\n",
       "      <td>37.0</td>\n",
       "      <td>2.4</td>\n",
       "      <td>38</td>\n",
       "      <td>50.596774</td>\n",
       "      <td>...</td>\n",
       "      <td>0</td>\n",
       "      <td>29</td>\n",
       "      <td>5</td>\n",
       "      <td>2</td>\n",
       "      <td>0</td>\n",
       "      <td>NaN</td>\n",
       "      <td>NaN</td>\n",
       "      <td>NaN</td>\n",
       "      <td>NaN</td>\n",
       "      <td>75757</td>\n",
       "    </tr>\n",
       "    <tr>\n",
       "      <th>1</th>\n",
       "      <td>7</td>\n",
       "      <td>State_1</td>\n",
       "      <td>Commercial</td>\n",
       "      <td>Grocery_store_or_food_market</td>\n",
       "      <td>21906.0</td>\n",
       "      <td>1961.0</td>\n",
       "      <td>55.0</td>\n",
       "      <td>45.7</td>\n",
       "      <td>38</td>\n",
       "      <td>50.596774</td>\n",
       "      <td>...</td>\n",
       "      <td>0</td>\n",
       "      <td>29</td>\n",
       "      <td>5</td>\n",
       "      <td>2</td>\n",
       "      <td>0</td>\n",
       "      <td>NaN</td>\n",
       "      <td>NaN</td>\n",
       "      <td>NaN</td>\n",
       "      <td>NaN</td>\n",
       "      <td>75758</td>\n",
       "    </tr>\n",
       "    <tr>\n",
       "      <th>2</th>\n",
       "      <td>7</td>\n",
       "      <td>State_1</td>\n",
       "      <td>Commercial</td>\n",
       "      <td>Grocery_store_or_food_market</td>\n",
       "      <td>16138.0</td>\n",
       "      <td>1950.0</td>\n",
       "      <td>1.0</td>\n",
       "      <td>59.1</td>\n",
       "      <td>38</td>\n",
       "      <td>50.596774</td>\n",
       "      <td>...</td>\n",
       "      <td>0</td>\n",
       "      <td>29</td>\n",
       "      <td>5</td>\n",
       "      <td>2</td>\n",
       "      <td>0</td>\n",
       "      <td>NaN</td>\n",
       "      <td>NaN</td>\n",
       "      <td>NaN</td>\n",
       "      <td>NaN</td>\n",
       "      <td>75759</td>\n",
       "    </tr>\n",
       "    <tr>\n",
       "      <th>3</th>\n",
       "      <td>7</td>\n",
       "      <td>State_1</td>\n",
       "      <td>Commercial</td>\n",
       "      <td>Grocery_store_or_food_market</td>\n",
       "      <td>97422.0</td>\n",
       "      <td>1971.0</td>\n",
       "      <td>34.0</td>\n",
       "      <td>35.4</td>\n",
       "      <td>38</td>\n",
       "      <td>50.596774</td>\n",
       "      <td>...</td>\n",
       "      <td>0</td>\n",
       "      <td>29</td>\n",
       "      <td>5</td>\n",
       "      <td>2</td>\n",
       "      <td>0</td>\n",
       "      <td>NaN</td>\n",
       "      <td>NaN</td>\n",
       "      <td>NaN</td>\n",
       "      <td>NaN</td>\n",
       "      <td>75760</td>\n",
       "    </tr>\n",
       "    <tr>\n",
       "      <th>4</th>\n",
       "      <td>7</td>\n",
       "      <td>State_1</td>\n",
       "      <td>Commercial</td>\n",
       "      <td>Grocery_store_or_food_market</td>\n",
       "      <td>61242.0</td>\n",
       "      <td>1942.0</td>\n",
       "      <td>35.0</td>\n",
       "      <td>1.8</td>\n",
       "      <td>38</td>\n",
       "      <td>50.596774</td>\n",
       "      <td>...</td>\n",
       "      <td>0</td>\n",
       "      <td>29</td>\n",
       "      <td>5</td>\n",
       "      <td>2</td>\n",
       "      <td>0</td>\n",
       "      <td>340.0</td>\n",
       "      <td>330.0</td>\n",
       "      <td>22.8</td>\n",
       "      <td>126.0</td>\n",
       "      <td>75761</td>\n",
       "    </tr>\n",
       "  </tbody>\n",
       "</table>\n",
       "<p>5 rows × 63 columns</p>\n",
       "</div>"
      ],
      "text/plain": [
       "   Year_Factor State_Factor building_class                 facility_type  \\\n",
       "0            7      State_1     Commercial  Grocery_store_or_food_market   \n",
       "1            7      State_1     Commercial  Grocery_store_or_food_market   \n",
       "2            7      State_1     Commercial  Grocery_store_or_food_market   \n",
       "3            7      State_1     Commercial  Grocery_store_or_food_market   \n",
       "4            7      State_1     Commercial  Grocery_store_or_food_market   \n",
       "\n",
       "   floor_area  year_built  energy_star_rating  ELEVATION  january_min_temp  \\\n",
       "0     28484.0      1994.0                37.0        2.4                38   \n",
       "1     21906.0      1961.0                55.0       45.7                38   \n",
       "2     16138.0      1950.0                 1.0       59.1                38   \n",
       "3     97422.0      1971.0                34.0       35.4                38   \n",
       "4     61242.0      1942.0                35.0        1.8                38   \n",
       "\n",
       "   january_avg_temp  ...  days_below_0F  days_above_80F  days_above_90F  \\\n",
       "0         50.596774  ...              0              29               5   \n",
       "1         50.596774  ...              0              29               5   \n",
       "2         50.596774  ...              0              29               5   \n",
       "3         50.596774  ...              0              29               5   \n",
       "4         50.596774  ...              0              29               5   \n",
       "\n",
       "   days_above_100F  days_above_110F  direction_max_wind_speed  \\\n",
       "0                2                0                       NaN   \n",
       "1                2                0                       NaN   \n",
       "2                2                0                       NaN   \n",
       "3                2                0                       NaN   \n",
       "4                2                0                     340.0   \n",
       "\n",
       "   direction_peak_wind_speed  max_wind_speed  days_with_fog     id  \n",
       "0                        NaN             NaN            NaN  75757  \n",
       "1                        NaN             NaN            NaN  75758  \n",
       "2                        NaN             NaN            NaN  75759  \n",
       "3                        NaN             NaN            NaN  75760  \n",
       "4                      330.0            22.8          126.0  75761  \n",
       "\n",
       "[5 rows x 63 columns]"
      ]
     },
     "execution_count": 33,
     "metadata": {},
     "output_type": "execute_result"
    }
   ],
   "source": [
    "# Prediction with the test dataset\n",
    "test.head()"
   ]
  },
  {
   "cell_type": "code",
   "execution_count": 34,
   "id": "24bb4c92",
   "metadata": {},
   "outputs": [
    {
     "data": {
      "text/plain": [
       "(9705, 63)"
      ]
     },
     "execution_count": 34,
     "metadata": {},
     "output_type": "execute_result"
    }
   ],
   "source": [
    "test.shape"
   ]
  },
  {
   "cell_type": "code",
   "execution_count": 35,
   "id": "48e4f13f",
   "metadata": {},
   "outputs": [
    {
     "data": {
      "text/plain": [
       "Year_Factor                     0\n",
       "State_Factor                    0\n",
       "building_class                  0\n",
       "facility_type                   0\n",
       "floor_area                      0\n",
       "                             ... \n",
       "direction_max_wind_speed     8575\n",
       "direction_peak_wind_speed    8575\n",
       "max_wind_speed               8575\n",
       "days_with_fog                9117\n",
       "id                              0\n",
       "Length: 63, dtype: int64"
      ]
     },
     "execution_count": 35,
     "metadata": {},
     "output_type": "execute_result"
    }
   ],
   "source": [
    "# CHeck for missing data\n",
    "test.isna().sum()"
   ]
  },
  {
   "cell_type": "code",
   "execution_count": 36,
   "id": "eb764777",
   "metadata": {},
   "outputs": [
    {
     "data": {
      "text/html": [
       "<div>\n",
       "<style scoped>\n",
       "    .dataframe tbody tr th:only-of-type {\n",
       "        vertical-align: middle;\n",
       "    }\n",
       "\n",
       "    .dataframe tbody tr th {\n",
       "        vertical-align: top;\n",
       "    }\n",
       "\n",
       "    .dataframe thead th {\n",
       "        text-align: right;\n",
       "    }\n",
       "</style>\n",
       "<table border=\"1\" class=\"dataframe\">\n",
       "  <thead>\n",
       "    <tr style=\"text-align: right;\">\n",
       "      <th></th>\n",
       "      <th>points_missing</th>\n",
       "    </tr>\n",
       "  </thead>\n",
       "  <tbody>\n",
       "    <tr>\n",
       "      <th>year_built</th>\n",
       "      <td>92</td>\n",
       "    </tr>\n",
       "    <tr>\n",
       "      <th>energy_star_rating</th>\n",
       "      <td>2254</td>\n",
       "    </tr>\n",
       "    <tr>\n",
       "      <th>direction_max_wind_speed</th>\n",
       "      <td>8575</td>\n",
       "    </tr>\n",
       "    <tr>\n",
       "      <th>direction_peak_wind_speed</th>\n",
       "      <td>8575</td>\n",
       "    </tr>\n",
       "    <tr>\n",
       "      <th>max_wind_speed</th>\n",
       "      <td>8575</td>\n",
       "    </tr>\n",
       "    <tr>\n",
       "      <th>days_with_fog</th>\n",
       "      <td>9117</td>\n",
       "    </tr>\n",
       "  </tbody>\n",
       "</table>\n",
       "</div>"
      ],
      "text/plain": [
       "                           points_missing\n",
       "year_built                             92\n",
       "energy_star_rating                   2254\n",
       "direction_max_wind_speed             8575\n",
       "direction_peak_wind_speed            8575\n",
       "max_wind_speed                       8575\n",
       "days_with_fog                        9117"
      ]
     },
     "execution_count": 36,
     "metadata": {},
     "output_type": "execute_result"
    }
   ],
   "source": [
    "missing_col=test.columns[test.isna().any()]\n",
    "missing_subset=test[missing_col]\n",
    "num_missing=missing_subset.isna().sum()\n",
    "\n",
    "pd.DataFrame({ 'points_missing':num_missing})"
   ]
  },
  {
   "cell_type": "code",
   "execution_count": 37,
   "id": "6acd35f8",
   "metadata": {},
   "outputs": [],
   "source": [
    "# Lets deal with the missing data first, dropping the columns with large missing datapoints\n",
    "cols=['direction_max_wind_speed', 'direction_peak_wind_speed', 'max_wind_speed', 'days_with_fog']\n",
    "test=test.drop(cols, axis=1)"
   ]
  },
  {
   "cell_type": "code",
   "execution_count": 38,
   "id": "9dbb9036",
   "metadata": {},
   "outputs": [],
   "source": [
    "# Replacing missing value in 'energy_star_built'\n",
    "test.drop('year_built', inplace=True, axis=1)"
   ]
  },
  {
   "cell_type": "code",
   "execution_count": 39,
   "id": "fc45e0ad",
   "metadata": {},
   "outputs": [
    {
     "data": {
      "text/plain": [
       "<AxesSubplot:ylabel='energy_star_rating'>"
      ]
     },
     "execution_count": 39,
     "metadata": {},
     "output_type": "execute_result"
    },
    {
     "data": {
      "image/png": "[encoded data removed]",
      "text/plain": [
       "<Figure size 432x288 with 1 Axes>"
      ]
     },
     "metadata": {
      "needs_background": "light"
     },
     "output_type": "display_data"
    }
   ],
   "source": [
    "sns.boxplot(y=test['energy_star_rating'])"
   ]
  },
  {
   "cell_type": "code",
   "execution_count": 40,
   "id": "25dbd405",
   "metadata": {},
   "outputs": [],
   "source": [
    "from sklearn.impute import SimpleImputer\n",
    "inputer=SimpleImputer(missing_values=np.nan, strategy='mean')\n",
    "test[['energy_star_rating']]=inputer.fit_transform(test[['energy_star_rating']])"
   ]
  },
  {
   "cell_type": "code",
   "execution_count": 41,
   "id": "8336a0bb",
   "metadata": {},
   "outputs": [
    {
     "data": {
      "text/html": [
       "<div>\n",
       "<style scoped>\n",
       "    .dataframe tbody tr th:only-of-type {\n",
       "        vertical-align: middle;\n",
       "    }\n",
       "\n",
       "    .dataframe tbody tr th {\n",
       "        vertical-align: top;\n",
       "    }\n",
       "\n",
       "    .dataframe thead th {\n",
       "        text-align: right;\n",
       "    }\n",
       "</style>\n",
       "<table border=\"1\" class=\"dataframe\">\n",
       "  <thead>\n",
       "    <tr style=\"text-align: right;\">\n",
       "      <th></th>\n",
       "      <th>Year_Factor</th>\n",
       "      <th>State_Factor</th>\n",
       "      <th>building_class</th>\n",
       "      <th>floor_area</th>\n",
       "      <th>energy_star_rating</th>\n",
       "      <th>ELEVATION</th>\n",
       "      <th>january_min_temp</th>\n",
       "      <th>january_avg_temp</th>\n",
       "      <th>january_max_temp</th>\n",
       "      <th>february_min_temp</th>\n",
       "      <th>...</th>\n",
       "      <th>snowdepth_inches</th>\n",
       "      <th>avg_temp</th>\n",
       "      <th>days_below_30F</th>\n",
       "      <th>days_below_20F</th>\n",
       "      <th>days_below_10F</th>\n",
       "      <th>days_below_0F</th>\n",
       "      <th>days_above_80F</th>\n",
       "      <th>days_above_90F</th>\n",
       "      <th>days_above_100F</th>\n",
       "      <th>days_above_110F</th>\n",
       "    </tr>\n",
       "  </thead>\n",
       "  <tbody>\n",
       "    <tr>\n",
       "      <th>0</th>\n",
       "      <td>7</td>\n",
       "      <td>1</td>\n",
       "      <td>0</td>\n",
       "      <td>28484.0</td>\n",
       "      <td>37.0</td>\n",
       "      <td>2.4</td>\n",
       "      <td>38</td>\n",
       "      <td>50.596774</td>\n",
       "      <td>64</td>\n",
       "      <td>40</td>\n",
       "      <td>...</td>\n",
       "      <td>0</td>\n",
       "      <td>59.894521</td>\n",
       "      <td>0</td>\n",
       "      <td>0</td>\n",
       "      <td>0</td>\n",
       "      <td>0</td>\n",
       "      <td>29</td>\n",
       "      <td>5</td>\n",
       "      <td>2</td>\n",
       "      <td>0</td>\n",
       "    </tr>\n",
       "    <tr>\n",
       "      <th>1</th>\n",
       "      <td>7</td>\n",
       "      <td>1</td>\n",
       "      <td>0</td>\n",
       "      <td>21906.0</td>\n",
       "      <td>55.0</td>\n",
       "      <td>45.7</td>\n",
       "      <td>38</td>\n",
       "      <td>50.596774</td>\n",
       "      <td>64</td>\n",
       "      <td>40</td>\n",
       "      <td>...</td>\n",
       "      <td>0</td>\n",
       "      <td>59.894521</td>\n",
       "      <td>0</td>\n",
       "      <td>0</td>\n",
       "      <td>0</td>\n",
       "      <td>0</td>\n",
       "      <td>29</td>\n",
       "      <td>5</td>\n",
       "      <td>2</td>\n",
       "      <td>0</td>\n",
       "    </tr>\n",
       "    <tr>\n",
       "      <th>2</th>\n",
       "      <td>7</td>\n",
       "      <td>1</td>\n",
       "      <td>0</td>\n",
       "      <td>16138.0</td>\n",
       "      <td>1.0</td>\n",
       "      <td>59.1</td>\n",
       "      <td>38</td>\n",
       "      <td>50.596774</td>\n",
       "      <td>64</td>\n",
       "      <td>40</td>\n",
       "      <td>...</td>\n",
       "      <td>0</td>\n",
       "      <td>59.894521</td>\n",
       "      <td>0</td>\n",
       "      <td>0</td>\n",
       "      <td>0</td>\n",
       "      <td>0</td>\n",
       "      <td>29</td>\n",
       "      <td>5</td>\n",
       "      <td>2</td>\n",
       "      <td>0</td>\n",
       "    </tr>\n",
       "    <tr>\n",
       "      <th>3</th>\n",
       "      <td>7</td>\n",
       "      <td>1</td>\n",
       "      <td>0</td>\n",
       "      <td>97422.0</td>\n",
       "      <td>34.0</td>\n",
       "      <td>35.4</td>\n",
       "      <td>38</td>\n",
       "      <td>50.596774</td>\n",
       "      <td>64</td>\n",
       "      <td>40</td>\n",
       "      <td>...</td>\n",
       "      <td>0</td>\n",
       "      <td>59.894521</td>\n",
       "      <td>0</td>\n",
       "      <td>0</td>\n",
       "      <td>0</td>\n",
       "      <td>0</td>\n",
       "      <td>29</td>\n",
       "      <td>5</td>\n",
       "      <td>2</td>\n",
       "      <td>0</td>\n",
       "    </tr>\n",
       "    <tr>\n",
       "      <th>4</th>\n",
       "      <td>7</td>\n",
       "      <td>1</td>\n",
       "      <td>0</td>\n",
       "      <td>61242.0</td>\n",
       "      <td>35.0</td>\n",
       "      <td>1.8</td>\n",
       "      <td>38</td>\n",
       "      <td>50.596774</td>\n",
       "      <td>64</td>\n",
       "      <td>40</td>\n",
       "      <td>...</td>\n",
       "      <td>0</td>\n",
       "      <td>59.894521</td>\n",
       "      <td>0</td>\n",
       "      <td>0</td>\n",
       "      <td>0</td>\n",
       "      <td>0</td>\n",
       "      <td>29</td>\n",
       "      <td>5</td>\n",
       "      <td>2</td>\n",
       "      <td>0</td>\n",
       "    </tr>\n",
       "  </tbody>\n",
       "</table>\n",
       "<p>5 rows × 56 columns</p>\n",
       "</div>"
      ],
      "text/plain": [
       "   Year_Factor  State_Factor  building_class  floor_area  energy_star_rating  \\\n",
       "0            7             1               0     28484.0                37.0   \n",
       "1            7             1               0     21906.0                55.0   \n",
       "2            7             1               0     16138.0                 1.0   \n",
       "3            7             1               0     97422.0                34.0   \n",
       "4            7             1               0     61242.0                35.0   \n",
       "\n",
       "   ELEVATION  january_min_temp  january_avg_temp  january_max_temp  \\\n",
       "0        2.4                38         50.596774                64   \n",
       "1       45.7                38         50.596774                64   \n",
       "2       59.1                38         50.596774                64   \n",
       "3       35.4                38         50.596774                64   \n",
       "4        1.8                38         50.596774                64   \n",
       "\n",
       "   february_min_temp  ...  snowdepth_inches   avg_temp  days_below_30F  \\\n",
       "0                 40  ...                 0  59.894521               0   \n",
       "1                 40  ...                 0  59.894521               0   \n",
       "2                 40  ...                 0  59.894521               0   \n",
       "3                 40  ...                 0  59.894521               0   \n",
       "4                 40  ...                 0  59.894521               0   \n",
       "\n",
       "   days_below_20F  days_below_10F  days_below_0F  days_above_80F  \\\n",
       "0               0               0              0              29   \n",
       "1               0               0              0              29   \n",
       "2               0               0              0              29   \n",
       "3               0               0              0              29   \n",
       "4               0               0              0              29   \n",
       "\n",
       "   days_above_90F  days_above_100F  days_above_110F  \n",
       "0               5                2                0  \n",
       "1               5                2                0  \n",
       "2               5                2                0  \n",
       "3               5                2                0  \n",
       "4               5                2                0  \n",
       "\n",
       "[5 rows x 56 columns]"
      ]
     },
     "execution_count": 41,
     "metadata": {},
     "output_type": "execute_result"
    }
   ],
   "source": [
    "test['State_Factor']=test['State_Factor'].apply(conv)\n",
    "test['building_class']=test['building_class'].apply(lambda x: 1 if x=='Residential' else 0)\n",
    "test=test.drop(['facility_type', 'id'], axis=1)\n",
    "test.head()"
   ]
  },
  {
   "cell_type": "code",
   "execution_count": 42,
   "id": "306163d0",
   "metadata": {},
   "outputs": [],
   "source": [
    "scaler_test=scaler.fit_transform(test)\n"
   ]
  },
  {
   "cell_type": "code",
   "execution_count": 43,
   "id": "b594bed7",
   "metadata": {},
   "outputs": [],
   "source": [
    "prediction=g_search.predict(scaler_test)"
   ]
  },
  {
   "cell_type": "code",
   "execution_count": 44,
   "id": "c0137f6d",
   "metadata": {},
   "outputs": [
    {
     "data": {
      "text/plain": [
       "array([300.6562 , 327.806  , 300.6562 , ..., 494.62802, 494.62802,\n",
       "       494.62802], dtype=float32)"
      ]
     },
     "execution_count": 44,
     "metadata": {},
     "output_type": "execute_result"
    }
   ],
   "source": [
    "prediction"
   ]
  },
  {
   "cell_type": "code",
   "execution_count": 45,
   "id": "25a704bb",
   "metadata": {},
   "outputs": [],
   "source": [
    "submission['site_eui']=np.round(prediction,1)\n",
    "submission.to_csv(r'submission.csv', index=False)"
   ]
  },
  {
   "cell_type": "code",
   "execution_count": null,
   "id": "b8e46553",
   "metadata": {},
   "outputs": [],
   "source": []
  },
  {
   "cell_type": "code",
   "execution_count": null,
   "id": "cb3f26cc",
   "metadata": {},
   "outputs": [],
   "source": []
  },
  {
   "cell_type": "code",
   "execution_count": null,
   "id": "90ce7409",
   "metadata": {},
   "outputs": [],
   "source": []
  },
  {
   "cell_type": "code",
   "execution_count": null,
   "id": "2fb13b50",
   "metadata": {},
   "outputs": [],
   "source": []
  }
 ],
 "metadata": {
  "kernelspec": {
   "display_name": "Python 3 (ipykernel)",
   "language": "python",
   "name": "python3"
  },
  "language_info": {
   "codemirror_mode": {
    "name": "ipython",
    "version": 3
   },
   "file_extension": ".py",
   "mimetype": "text/x-python",
   "name": "python",
   "nbconvert_exporter": "python",
   "pygments_lexer": "ipython3",
   "version": "3.9.12"
  }
 },
 "nbformat": 4,
 "nbformat_minor": 5
}
